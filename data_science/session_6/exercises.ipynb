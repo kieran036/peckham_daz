{
 "cells": [
  {
   "cell_type": "code",
   "execution_count": 24,
   "metadata": {},
   "outputs": [],
   "source": [
    "file = open(\"intro_data.txt\")\n",
    "lines = file.readlines()"
   ]
  },
  {
   "cell_type": "code",
   "execution_count": 25,
   "metadata": {},
   "outputs": [
    {
     "name": "stdout",
     "output_type": "stream",
     "text": [
      "[\"my_name = 'Kieran'\\n\", \"Country = 'UK'\\n\", \"hobbies = ['Squash', 'Gardening', 'Swimming']\"]\n"
     ]
    }
   ],
   "source": [
    "print(lines)"
   ]
  },
  {
   "cell_type": "code",
   "execution_count": 34,
   "metadata": {},
   "outputs": [
    {
     "name": "stdout",
     "output_type": "stream",
     "text": [
      "{'my_name': \"'Kieran'\", 'Country': \"'UK'\", 'hobbies': \"['Squash', 'Gardening', 'Swimming']\"}\n"
     ]
    }
   ],
   "source": [
    "data = {}\n",
    "\n",
    "for line in lines:\n",
    "    key, value = line.strip().replace(\"'\",\"\").split(' = ', 1)\n",
    "    data[key] = value\n",
    "\n",
    "print(data)"
   ]
  }
 ],
 "metadata": {
  "kernelspec": {
   "display_name": "base",
   "language": "python",
   "name": "python3"
  },
  "language_info": {
   "codemirror_mode": {
    "name": "ipython",
    "version": 3
   },
   "file_extension": ".py",
   "mimetype": "text/x-python",
   "name": "python",
   "nbconvert_exporter": "python",
   "pygments_lexer": "ipython3",
   "version": "3.12.2"
  }
 },
 "nbformat": 4,
 "nbformat_minor": 2
}
